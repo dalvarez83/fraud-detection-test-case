{
 "cells": [
  {
   "cell_type": "markdown",
   "id": "03679f4b-80ec-46f2-9c6e-914a443fe14d",
   "metadata": {},
   "source": [
    "# Synthetic data generator for anomaly detection technical challenge problem"
   ]
  },
  {
   "cell_type": "markdown",
   "id": "d7f75f5a-907a-4179-85ed-72187b13afca",
   "metadata": {},
   "source": [
    "### Objective\n",
    "\n",
    "- Create a 4-column dataframe with three explanatory feature columns and a binary output/response variable column.\n",
    "- Each column should have null values missing at random.\n",
    "- Each explanatory feature column should consist of values ranging from -500 to 200 at random. \n",
    "- Dataframe should be 10000 rows in length, so resulting dataframe should be a 10000 x 4 dimension matrix.\n",
    "- Save the dataframe to a CSV called `raw_data.csv`  "
   ]
  },
  {
   "cell_type": "markdown",
   "id": "72d8401c-588e-40c1-8700-3d267e087697",
   "metadata": {},
   "source": [
    "### Installations"
   ]
  },
  {
   "cell_type": "code",
   "execution_count": 1,
   "id": "a5887339-95c4-42ea-9320-0d6fa71ad942",
   "metadata": {},
   "outputs": [],
   "source": [
    "import pandas as pd\n",
    "import numpy as np\n",
    "from sklearn.datasets import make_classification"
   ]
  },
  {
   "cell_type": "markdown",
   "id": "8ad0ca85-e099-4648-9fe9-3c48e2d5a344",
   "metadata": {},
   "source": [
    "### Create a class `DataGenerator`"
   ]
  },
  {
   "cell_type": "code",
   "execution_count": 14,
   "id": "e82fdf63-a1fa-430c-9385-c9152f159b22",
   "metadata": {},
   "outputs": [
    {
     "name": "stdin",
     "output_type": "stream",
     "text": [
      "Please enter number of features for the dataset \n",
      " 40\n"
     ]
    }
   ],
   "source": [
    "### enter number of features for the dataset\n",
    "n_features = int(input(\"Please enter number of features for the dataset \\n\"))"
   ]
  },
  {
   "cell_type": "code",
   "execution_count": 15,
   "id": "ae00e847-22ed-4a4c-816e-aa4c8de1919f",
   "metadata": {},
   "outputs": [
    {
     "name": "stdin",
     "output_type": "stream",
     "text": [
      "Please enter number of informative features for the dataset \n",
      " 3\n"
     ]
    }
   ],
   "source": [
    "### enter number of informative features for the dataset\n",
    "n_informative = int(input(\"Please enter number of informative features for the dataset \\n\"))"
   ]
  },
  {
   "cell_type": "code",
   "execution_count": 84,
   "id": "e1acfa78-4bbf-4310-b83c-0380c0412131",
   "metadata": {},
   "outputs": [],
   "source": [
    "class DataGenerator:\n",
    "    \n",
    "    def __init__(self, n_samples, n_features, n_informative, n_redundant, n_repeated, n_classes, \n",
    "                 n_clusters_per_class, flip_y, null_prob):\n",
    "        ''' generate data using the make_classification module '''\n",
    "        self.n_samples = n_samples\n",
    "        self.n_features = n_features\n",
    "        self.n_informative = n_informative\n",
    "        self.n_redundant = n_redundant\n",
    "        self.n_repeated = n_repeated\n",
    "        self.n_classes = n_classes\n",
    "        self.n_clusters_per_class = n_clusters_per_class\n",
    "        self.flip_y = flip_y\n",
    "        self.null_prob = null_prob\n",
    "\n",
    "    def generate_random_data(self):\n",
    "        X,y = make_classification(n_samples=self.n_samples, n_features=self.n_features,\n",
    "                            n_informative=self.n_informative, n_redundant=self.n_redundant, n_repeated=self.n_repeated, \n",
    "                            n_classes=self.n_classes, n_clusters_per_class=self.n_clusters_per_class, weights=None, \n",
    "                            flip_y=self.flip_y, class_sep=1.0, hypercube=True, shift=0.0, \n",
    "                            scale=1.0, shuffle=True, random_state=None)\n",
    "        return X,y\n",
    "        \n",
    "    def create_dataframe(self):\n",
    "        X,y = self.generate_random_data()\n",
    "        featurenames = list()\n",
    "        for i in range(n_features):\n",
    "            featurenames.append(f\"x{i}\")\n",
    "        df = pd.concat([pd.DataFrame(X, columns=featurenames), \n",
    "                        pd.DataFrame(y, columns=['y'])], axis=1)\n",
    "\n",
    "        ### generate random null values\n",
    "        X = df.drop('y', axis=1) ### create dataframe with just X variables\n",
    "        for col in X.columns:\n",
    "            mask_values = np.random.choice([np.nan, True], size=df.shape[0], p=[self.null_prob, 1 - self.null_prob])\n",
    "            df[col] = df[col]*mask_values\n",
    "        return df"
   ]
  },
  {
   "cell_type": "code",
   "execution_count": 85,
   "id": "578c3987-768e-4371-9312-7341f3e9ed1f",
   "metadata": {},
   "outputs": [],
   "source": [
    "generator = DataGenerator(n_samples=10000, n_features=n_features, n_informative=n_informative, \n",
    "                          n_redundant=2, n_repeated=0, n_classes=2, flip_y=0.01, n_clusters_per_class=2, \n",
    "                          null_prob=.001)\n",
    "df = generator.create_dataframe()"
   ]
  },
  {
   "cell_type": "code",
   "execution_count": 86,
   "id": "aa4c6881-2c31-4f27-9ecc-8c89ab14f76f",
   "metadata": {},
   "outputs": [
    {
     "name": "stdout",
     "output_type": "stream",
     "text": [
      "<class 'pandas.core.frame.DataFrame'>\n",
      "RangeIndex: 10000 entries, 0 to 9999\n",
      "Data columns (total 41 columns):\n",
      " #   Column  Non-Null Count  Dtype  \n",
      "---  ------  --------------  -----  \n",
      " 0   x0      9989 non-null   float64\n",
      " 1   x1      9995 non-null   float64\n",
      " 2   x2      9988 non-null   float64\n",
      " 3   x3      9990 non-null   float64\n",
      " 4   x4      9989 non-null   float64\n",
      " 5   x5      9988 non-null   float64\n",
      " 6   x6      9987 non-null   float64\n",
      " 7   x7      9990 non-null   float64\n",
      " 8   x8      9990 non-null   float64\n",
      " 9   x9      9991 non-null   float64\n",
      " 10  x10     9989 non-null   float64\n",
      " 11  x11     9992 non-null   float64\n",
      " 12  x12     9986 non-null   float64\n",
      " 13  x13     9990 non-null   float64\n",
      " 14  x14     9987 non-null   float64\n",
      " 15  x15     9991 non-null   float64\n",
      " 16  x16     9994 non-null   float64\n",
      " 17  x17     9990 non-null   float64\n",
      " 18  x18     9995 non-null   float64\n",
      " 19  x19     9990 non-null   float64\n",
      " 20  x20     9995 non-null   float64\n",
      " 21  x21     9993 non-null   float64\n",
      " 22  x22     9994 non-null   float64\n",
      " 23  x23     9994 non-null   float64\n",
      " 24  x24     9987 non-null   float64\n",
      " 25  x25     9991 non-null   float64\n",
      " 26  x26     9992 non-null   float64\n",
      " 27  x27     9991 non-null   float64\n",
      " 28  x28     9986 non-null   float64\n",
      " 29  x29     9993 non-null   float64\n",
      " 30  x30     9984 non-null   float64\n",
      " 31  x31     9985 non-null   float64\n",
      " 32  x32     9991 non-null   float64\n",
      " 33  x33     9986 non-null   float64\n",
      " 34  x34     9989 non-null   float64\n",
      " 35  x35     9985 non-null   float64\n",
      " 36  x36     9990 non-null   float64\n",
      " 37  x37     9997 non-null   float64\n",
      " 38  x38     9986 non-null   float64\n",
      " 39  x39     9989 non-null   float64\n",
      " 40  y       10000 non-null  int64  \n",
      "dtypes: float64(40), int64(1)\n",
      "memory usage: 3.1 MB\n"
     ]
    }
   ],
   "source": [
    "df.info()"
   ]
  },
  {
   "cell_type": "code",
   "execution_count": 87,
   "id": "68015c4e-0dd2-4fa7-b655-1e454a5b227c",
   "metadata": {},
   "outputs": [
    {
     "data": {
      "text/html": [
       "<div>\n",
       "<style scoped>\n",
       "    .dataframe tbody tr th:only-of-type {\n",
       "        vertical-align: middle;\n",
       "    }\n",
       "\n",
       "    .dataframe tbody tr th {\n",
       "        vertical-align: top;\n",
       "    }\n",
       "\n",
       "    .dataframe thead th {\n",
       "        text-align: right;\n",
       "    }\n",
       "</style>\n",
       "<table border=\"1\" class=\"dataframe\">\n",
       "  <thead>\n",
       "    <tr style=\"text-align: right;\">\n",
       "      <th></th>\n",
       "      <th>x0</th>\n",
       "      <th>x1</th>\n",
       "      <th>x2</th>\n",
       "      <th>x3</th>\n",
       "      <th>x4</th>\n",
       "      <th>x5</th>\n",
       "      <th>x6</th>\n",
       "      <th>x7</th>\n",
       "      <th>x8</th>\n",
       "      <th>x9</th>\n",
       "      <th>...</th>\n",
       "      <th>x31</th>\n",
       "      <th>x32</th>\n",
       "      <th>x33</th>\n",
       "      <th>x34</th>\n",
       "      <th>x35</th>\n",
       "      <th>x36</th>\n",
       "      <th>x37</th>\n",
       "      <th>x38</th>\n",
       "      <th>x39</th>\n",
       "      <th>y</th>\n",
       "    </tr>\n",
       "  </thead>\n",
       "  <tbody>\n",
       "    <tr>\n",
       "      <th>0</th>\n",
       "      <td>0.821615</td>\n",
       "      <td>0.005438</td>\n",
       "      <td>1.405877</td>\n",
       "      <td>-1.671051</td>\n",
       "      <td>0.673243</td>\n",
       "      <td>2.569206</td>\n",
       "      <td>-1.358099</td>\n",
       "      <td>0.600167</td>\n",
       "      <td>-0.271563</td>\n",
       "      <td>-0.713674</td>\n",
       "      <td>...</td>\n",
       "      <td>0.903795</td>\n",
       "      <td>-1.231740</td>\n",
       "      <td>1.055078</td>\n",
       "      <td>-0.996066</td>\n",
       "      <td>0.397088</td>\n",
       "      <td>-0.276625</td>\n",
       "      <td>-1.232512</td>\n",
       "      <td>0.403470</td>\n",
       "      <td>-0.892124</td>\n",
       "      <td>0</td>\n",
       "    </tr>\n",
       "    <tr>\n",
       "      <th>1</th>\n",
       "      <td>-0.157628</td>\n",
       "      <td>0.488277</td>\n",
       "      <td>1.032593</td>\n",
       "      <td>-0.651460</td>\n",
       "      <td>0.293222</td>\n",
       "      <td>-0.692851</td>\n",
       "      <td>0.476781</td>\n",
       "      <td>-2.036175</td>\n",
       "      <td>-0.154158</td>\n",
       "      <td>-0.427911</td>\n",
       "      <td>...</td>\n",
       "      <td>-2.039804</td>\n",
       "      <td>-2.483759</td>\n",
       "      <td>-1.348559</td>\n",
       "      <td>-0.965881</td>\n",
       "      <td>-0.811055</td>\n",
       "      <td>-0.961314</td>\n",
       "      <td>0.069055</td>\n",
       "      <td>0.874280</td>\n",
       "      <td>-0.710027</td>\n",
       "      <td>1</td>\n",
       "    </tr>\n",
       "    <tr>\n",
       "      <th>2</th>\n",
       "      <td>2.335337</td>\n",
       "      <td>-1.259756</td>\n",
       "      <td>-1.409324</td>\n",
       "      <td>-2.243465</td>\n",
       "      <td>-1.005477</td>\n",
       "      <td>0.552449</td>\n",
       "      <td>0.205637</td>\n",
       "      <td>0.423192</td>\n",
       "      <td>1.086872</td>\n",
       "      <td>-0.367398</td>\n",
       "      <td>...</td>\n",
       "      <td>-0.815861</td>\n",
       "      <td>1.358779</td>\n",
       "      <td>0.375093</td>\n",
       "      <td>-0.847342</td>\n",
       "      <td>0.863651</td>\n",
       "      <td>-1.159884</td>\n",
       "      <td>-0.573352</td>\n",
       "      <td>-0.310774</td>\n",
       "      <td>-0.529847</td>\n",
       "      <td>1</td>\n",
       "    </tr>\n",
       "    <tr>\n",
       "      <th>3</th>\n",
       "      <td>0.444714</td>\n",
       "      <td>-1.155224</td>\n",
       "      <td>-0.498338</td>\n",
       "      <td>-0.681449</td>\n",
       "      <td>-0.807188</td>\n",
       "      <td>-0.223881</td>\n",
       "      <td>-1.203262</td>\n",
       "      <td>0.386788</td>\n",
       "      <td>-0.227016</td>\n",
       "      <td>-1.448302</td>\n",
       "      <td>...</td>\n",
       "      <td>0.423448</td>\n",
       "      <td>0.340145</td>\n",
       "      <td>-0.625418</td>\n",
       "      <td>-3.447103</td>\n",
       "      <td>-0.195254</td>\n",
       "      <td>-0.044352</td>\n",
       "      <td>1.275212</td>\n",
       "      <td>-0.944736</td>\n",
       "      <td>0.255152</td>\n",
       "      <td>0</td>\n",
       "    </tr>\n",
       "    <tr>\n",
       "      <th>4</th>\n",
       "      <td>-0.182744</td>\n",
       "      <td>-1.710438</td>\n",
       "      <td>0.243530</td>\n",
       "      <td>0.693694</td>\n",
       "      <td>-2.635318</td>\n",
       "      <td>0.619008</td>\n",
       "      <td>-0.172413</td>\n",
       "      <td>-0.038792</td>\n",
       "      <td>0.050902</td>\n",
       "      <td>-0.469070</td>\n",
       "      <td>...</td>\n",
       "      <td>0.570074</td>\n",
       "      <td>-0.148030</td>\n",
       "      <td>1.794412</td>\n",
       "      <td>-0.784764</td>\n",
       "      <td>0.180351</td>\n",
       "      <td>0.757999</td>\n",
       "      <td>0.307451</td>\n",
       "      <td>0.927743</td>\n",
       "      <td>0.623604</td>\n",
       "      <td>0</td>\n",
       "    </tr>\n",
       "  </tbody>\n",
       "</table>\n",
       "<p>5 rows × 41 columns</p>\n",
       "</div>"
      ],
      "text/plain": [
       "         x0        x1        x2        x3        x4        x5        x6  \\\n",
       "0  0.821615  0.005438  1.405877 -1.671051  0.673243  2.569206 -1.358099   \n",
       "1 -0.157628  0.488277  1.032593 -0.651460  0.293222 -0.692851  0.476781   \n",
       "2  2.335337 -1.259756 -1.409324 -2.243465 -1.005477  0.552449  0.205637   \n",
       "3  0.444714 -1.155224 -0.498338 -0.681449 -0.807188 -0.223881 -1.203262   \n",
       "4 -0.182744 -1.710438  0.243530  0.693694 -2.635318  0.619008 -0.172413   \n",
       "\n",
       "         x7        x8        x9  ...       x31       x32       x33       x34  \\\n",
       "0  0.600167 -0.271563 -0.713674  ...  0.903795 -1.231740  1.055078 -0.996066   \n",
       "1 -2.036175 -0.154158 -0.427911  ... -2.039804 -2.483759 -1.348559 -0.965881   \n",
       "2  0.423192  1.086872 -0.367398  ... -0.815861  1.358779  0.375093 -0.847342   \n",
       "3  0.386788 -0.227016 -1.448302  ...  0.423448  0.340145 -0.625418 -3.447103   \n",
       "4 -0.038792  0.050902 -0.469070  ...  0.570074 -0.148030  1.794412 -0.784764   \n",
       "\n",
       "        x35       x36       x37       x38       x39  y  \n",
       "0  0.397088 -0.276625 -1.232512  0.403470 -0.892124  0  \n",
       "1 -0.811055 -0.961314  0.069055  0.874280 -0.710027  1  \n",
       "2  0.863651 -1.159884 -0.573352 -0.310774 -0.529847  1  \n",
       "3 -0.195254 -0.044352  1.275212 -0.944736  0.255152  0  \n",
       "4  0.180351  0.757999  0.307451  0.927743  0.623604  0  \n",
       "\n",
       "[5 rows x 41 columns]"
      ]
     },
     "execution_count": 87,
     "metadata": {},
     "output_type": "execute_result"
    }
   ],
   "source": [
    "df.head()"
   ]
  },
  {
   "cell_type": "code",
   "execution_count": 7,
   "id": "38d13d0b-057d-480d-bdf3-8c2122e66084",
   "metadata": {},
   "outputs": [],
   "source": [
    "# Function to generate random data\n",
    "def generate_random_data(size, min_value, max_value):\n",
    "    data = np.random.randint(min_value, max_value + 1, size)\n",
    "    return data\n",
    "\n",
    "# Generate data for each column\n",
    "x0 = generate_random_data(10000, -500, 200)\n",
    "x1 = generate_random_data(10000, -500, 200)\n",
    "x2 = generate_random_data(10000, -500, 200)\n",
    "x3 = generate_random_data(10000, -500, 200)  # Additional column\n",
    "y = np.random.choice([0, 1], size=10000, p=[0.999, 0.001])  # Binary output column"
   ]
  },
  {
   "cell_type": "code",
   "execution_count": 8,
   "id": "5ebfe463-9824-450b-85e8-231a5c02b1a7",
   "metadata": {},
   "outputs": [],
   "source": [
    "# class DataGenerator:\n",
    "#     def __init__(self, num_rows, min_value, max_value, null_probs):\n",
    "#         self.num_rows = num_rows\n",
    "#         self.min_value = min_value\n",
    "#         self.max_value = max_value\n",
    "#         self.null_probs = null_probs\n",
    "\n",
    "#     def generate_random_data(self, null_prob):\n",
    "#         data = np.random.randint(self.min_value, self.max_value + 1, size=self.num_rows)\n",
    "#         ### generate null values at random\n",
    "#         null_mask = np.random.choice([True, False], size=self.num_rows, p=[null_prob, 1 - null_prob])\n",
    "#         data[null_mask] = np.nan\n",
    "#         return data\n",
    "\n",
    "#     def create_dataframe(self):\n",
    "#         columns = []\n",
    "#         for null_prob in self.null_probs:\n",
    "#             columns.append(self.generate_random_data(null_prob))\n",
    "#         columns.append(np.random.choice([0, 1], size=self.num_rows, p=[0.7, 0.3]))  # Binary output column\n",
    "\n",
    "#         df = pd.DataFrame(columns, index=['x0', 'x1', 'x2', 'x3', 'y']).T\n",
    "#         return df\n"
   ]
  },
  {
   "cell_type": "markdown",
   "id": "a79a0cee-2ace-479f-aafa-7aee9647479c",
   "metadata": {},
   "source": [
    "### Create dataframe"
   ]
  },
  {
   "cell_type": "code",
   "execution_count": 9,
   "id": "a75d5395-ac17-4797-8727-67837fa44893",
   "metadata": {},
   "outputs": [],
   "source": [
    "# Create a DataFrame\n",
    "df = pd.DataFrame({'x0': x0, 'x1': x1, 'x2': x2, 'x3': x3, 'y': y})\n",
    "\n",
    "# Insert null values at random in the X variables only \n",
    "null_prob = .001\n",
    "X = df.drop('y', axis=1)\n",
    "for col in X.columns:\n",
    "        mask_values = np.random.choice([np.nan, True], size=df.shape[0], p=[null_prob, 1 - null_prob])\n",
    "        df[col] = df[col]*mask_values\n"
   ]
  },
  {
   "cell_type": "code",
   "execution_count": 10,
   "id": "9a4bbf7c-bc81-40f5-a562-3d68061b5f1b",
   "metadata": {},
   "outputs": [],
   "source": [
    "# # Generate a small portion of null values at random\n",
    "# generator = DataGenerator(10000, -500, 200, [0.0001, 0.0001, 0.000015])\n",
    "# df = generator.create_dataframe()"
   ]
  },
  {
   "cell_type": "markdown",
   "id": "b23de865-6416-4079-968c-4a1b732a21a8",
   "metadata": {},
   "source": [
    "### Save to csv"
   ]
  },
  {
   "cell_type": "code",
   "execution_count": 11,
   "id": "695b214e-f9e6-428c-bc83-6de02e24eb08",
   "metadata": {},
   "outputs": [],
   "source": [
    "df.to_csv('raw_data.csv', index=False)"
   ]
  },
  {
   "cell_type": "code",
   "execution_count": 13,
   "id": "80ad18bd-ad3d-497d-a2a8-b002e9accb62",
   "metadata": {},
   "outputs": [
    {
     "name": "stdout",
     "output_type": "stream",
     "text": [
      "<class 'pandas.core.frame.DataFrame'>\n",
      "RangeIndex: 10000 entries, 0 to 9999\n",
      "Data columns (total 5 columns):\n",
      " #   Column  Non-Null Count  Dtype  \n",
      "---  ------  --------------  -----  \n",
      " 0   x0      9989 non-null   float64\n",
      " 1   x1      9991 non-null   float64\n",
      " 2   x2      9987 non-null   float64\n",
      " 3   x3      9990 non-null   float64\n",
      " 4   y       10000 non-null  int64  \n",
      "dtypes: float64(4), int64(1)\n",
      "memory usage: 390.8 KB\n"
     ]
    }
   ],
   "source": [
    "df.info()"
   ]
  },
  {
   "cell_type": "code",
   "execution_count": 14,
   "id": "4fc798f4-fba4-4306-97a0-09b320023294",
   "metadata": {},
   "outputs": [
    {
     "data": {
      "text/html": [
       "<div>\n",
       "<style scoped>\n",
       "    .dataframe tbody tr th:only-of-type {\n",
       "        vertical-align: middle;\n",
       "    }\n",
       "\n",
       "    .dataframe tbody tr th {\n",
       "        vertical-align: top;\n",
       "    }\n",
       "\n",
       "    .dataframe thead th {\n",
       "        text-align: right;\n",
       "    }\n",
       "</style>\n",
       "<table border=\"1\" class=\"dataframe\">\n",
       "  <thead>\n",
       "    <tr style=\"text-align: right;\">\n",
       "      <th></th>\n",
       "      <th>x0</th>\n",
       "      <th>x1</th>\n",
       "      <th>x2</th>\n",
       "      <th>x3</th>\n",
       "      <th>y</th>\n",
       "    </tr>\n",
       "  </thead>\n",
       "  <tbody>\n",
       "    <tr>\n",
       "      <th>0</th>\n",
       "      <td>-77.0</td>\n",
       "      <td>157.0</td>\n",
       "      <td>-226.0</td>\n",
       "      <td>114.0</td>\n",
       "      <td>0</td>\n",
       "    </tr>\n",
       "    <tr>\n",
       "      <th>1</th>\n",
       "      <td>-253.0</td>\n",
       "      <td>-213.0</td>\n",
       "      <td>-321.0</td>\n",
       "      <td>147.0</td>\n",
       "      <td>0</td>\n",
       "    </tr>\n",
       "    <tr>\n",
       "      <th>2</th>\n",
       "      <td>-21.0</td>\n",
       "      <td>165.0</td>\n",
       "      <td>-86.0</td>\n",
       "      <td>-390.0</td>\n",
       "      <td>0</td>\n",
       "    </tr>\n",
       "    <tr>\n",
       "      <th>3</th>\n",
       "      <td>182.0</td>\n",
       "      <td>-348.0</td>\n",
       "      <td>-233.0</td>\n",
       "      <td>137.0</td>\n",
       "      <td>0</td>\n",
       "    </tr>\n",
       "    <tr>\n",
       "      <th>4</th>\n",
       "      <td>-421.0</td>\n",
       "      <td>177.0</td>\n",
       "      <td>-217.0</td>\n",
       "      <td>-384.0</td>\n",
       "      <td>0</td>\n",
       "    </tr>\n",
       "  </tbody>\n",
       "</table>\n",
       "</div>"
      ],
      "text/plain": [
       "      x0     x1     x2     x3  y\n",
       "0  -77.0  157.0 -226.0  114.0  0\n",
       "1 -253.0 -213.0 -321.0  147.0  0\n",
       "2  -21.0  165.0  -86.0 -390.0  0\n",
       "3  182.0 -348.0 -233.0  137.0  0\n",
       "4 -421.0  177.0 -217.0 -384.0  0"
      ]
     },
     "execution_count": 14,
     "metadata": {},
     "output_type": "execute_result"
    }
   ],
   "source": [
    "df.head()"
   ]
  },
  {
   "cell_type": "code",
   "execution_count": null,
   "id": "b26f57d9-3ffa-4de4-82cb-78197975a897",
   "metadata": {},
   "outputs": [],
   "source": []
  }
 ],
 "metadata": {
  "kernelspec": {
   "display_name": "Python 3 (ipykernel)",
   "language": "python",
   "name": "python3"
  },
  "language_info": {
   "codemirror_mode": {
    "name": "ipython",
    "version": 3
   },
   "file_extension": ".py",
   "mimetype": "text/x-python",
   "name": "python",
   "nbconvert_exporter": "python",
   "pygments_lexer": "ipython3",
   "version": "3.10.11"
  }
 },
 "nbformat": 4,
 "nbformat_minor": 5
}
