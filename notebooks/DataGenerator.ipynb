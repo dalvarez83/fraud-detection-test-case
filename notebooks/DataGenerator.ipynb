{
 "cells": [
  {
   "cell_type": "markdown",
   "id": "03679f4b-80ec-46f2-9c6e-914a443fe14d",
   "metadata": {},
   "source": [
    "# Synthetic data generator for anomaly detection technical challenge problem"
   ]
  },
  {
   "cell_type": "markdown",
   "id": "d7f75f5a-907a-4179-85ed-72187b13afca",
   "metadata": {},
   "source": [
    "### Objective\n",
    "\n",
    "- Create a N-column dataframe with three explanatory feature columns and a binary output/response variable column.\n",
    "- Each column should have null values missing at random.\n",
    "- Each explanatory feature column should consist of random values ranging from -1 to 1 \n",
    "- Dataframe should be 10000 rows in length, so resulting dataframe should be a 10000 x N dimension matrix.\n",
    "- Save the dataframe to a CSV called `raw_data.csv`  "
   ]
  },
  {
   "cell_type": "markdown",
   "id": "72d8401c-588e-40c1-8700-3d267e087697",
   "metadata": {},
   "source": [
    "### Installations"
   ]
  },
  {
   "cell_type": "code",
   "execution_count": 1,
   "id": "a5887339-95c4-42ea-9320-0d6fa71ad942",
   "metadata": {},
   "outputs": [],
   "source": [
    "import pandas as pd\n",
    "import numpy as np\n",
    "from sklearn.datasets import make_classification"
   ]
  },
  {
   "cell_type": "markdown",
   "id": "fb0b0598-451c-4dcb-988b-1f8b67938b20",
   "metadata": {},
   "source": [
    "# Approach 1: Using sci-kit learn's `make_classification` method"
   ]
  },
  {
   "cell_type": "markdown",
   "id": "1350c421-a129-4a3f-b082-f44daf7b1a9f",
   "metadata": {},
   "source": [
    "The `make_classification` method is a module under sci-kit learn's datasets APIs that creates an a random n-class classification problem. The clever part about this method is that it initially creates clusters of points normally distributed (std=1) about vertices of an `n_informative`-dimensional hypercube with sides of length 2*`class_sep` and assigns an equal number of clusters to each class. It introduces interdependence between these features and adds various types of further noise to the data.See API reference documentation [here](https://scikit-learn.org/stable/modules/generated/sklearn.datasets.make_classification.html#sklearn.datasets.make_classification)."
   ]
  },
  {
   "cell_type": "markdown",
   "id": "00df2e7e-5be4-4056-9edd-a174719a2398",
   "metadata": {},
   "source": [
    "I enter the number of rows for the dataset"
   ]
  },
  {
   "cell_type": "code",
   "execution_count": 2,
   "id": "e6725752-f3db-492b-adfd-294134f7d14a",
   "metadata": {},
   "outputs": [
    {
     "name": "stdin",
     "output_type": "stream",
     "text": [
      "Please enter number of rows for the dataset \n",
      " 10000\n"
     ]
    }
   ],
   "source": [
    "### enter number of features for the dataset\n",
    "n_rows = int(input(\"Please enter number of rows for the dataset \\n\"))"
   ]
  },
  {
   "cell_type": "markdown",
   "id": "199882e0-68de-403c-8451-dd04277a2347",
   "metadata": {},
   "source": [
    "I enter the number of features I want in the dataset."
   ]
  },
  {
   "cell_type": "code",
   "execution_count": 3,
   "id": "e82fdf63-a1fa-430c-9385-c9152f159b22",
   "metadata": {},
   "outputs": [
    {
     "name": "stdin",
     "output_type": "stream",
     "text": [
      "Please enter number of features for the dataset \n",
      " 40\n"
     ]
    }
   ],
   "source": [
    "### enter number of features for the dataset\n",
    "n_features = int(input(\"Please enter number of features for the dataset \\n\"))"
   ]
  },
  {
   "cell_type": "markdown",
   "id": "ef8cb33e-aba3-4cae-8179-c8a51ac68c14",
   "metadata": {},
   "source": [
    "Then, I enter the number of informative features. The informative features serve as the vertices of the `n_informative`-dimensional hypercube."
   ]
  },
  {
   "cell_type": "code",
   "execution_count": 4,
   "id": "ae00e847-22ed-4a4c-816e-aa4c8de1919f",
   "metadata": {},
   "outputs": [
    {
     "name": "stdin",
     "output_type": "stream",
     "text": [
      "Please enter number of informative features for the dataset \n",
      " 3\n"
     ]
    }
   ],
   "source": [
    "### enter number of informative features for the dataset\n",
    "n_informative = int(input(\"Please enter number of informative features for the dataset \\n\"))"
   ]
  },
  {
   "cell_type": "markdown",
   "id": "50fe3344-ee4a-48b5-80e2-dd49c3969d6d",
   "metadata": {},
   "source": [
    "Then, I enter the probability of anomalies expected in the response variable"
   ]
  },
  {
   "cell_type": "code",
   "execution_count": 5,
   "id": "a1e98cac-f0de-4c84-953c-624c4eabcb85",
   "metadata": {},
   "outputs": [
    {
     "name": "stdin",
     "output_type": "stream",
     "text": [
      "Please enter probability of anomalies expected in the response variable from 0 to 100 \n",
      " .01\n"
     ]
    }
   ],
   "source": [
    "##### enter probability of anomalies in the output variables\n",
    "flip_y = float(input(\"Please enter probability of anomalies expected in the response variable from 0 to 100 \\n\"))/100"
   ]
  },
  {
   "cell_type": "code",
   "execution_count": 6,
   "id": "85b4123f-d4c4-440d-811d-9bfa97b9aa09",
   "metadata": {},
   "outputs": [
    {
     "name": "stdout",
     "output_type": "stream",
     "text": [
      "0.0001\n"
     ]
    }
   ],
   "source": [
    "print(flip_y)"
   ]
  },
  {
   "cell_type": "markdown",
   "id": "0c28ba60-4f6f-4703-af89-da45802762de",
   "metadata": {},
   "source": [
    "Then, enter the weights or proportions of samples assigned to each class\n"
   ]
  },
  {
   "cell_type": "code",
   "execution_count": 7,
   "id": "57886bb4-98e0-432c-b5f1-f9e3375336c1",
   "metadata": {},
   "outputs": [
    {
     "name": "stdin",
     "output_type": "stream",
     "text": [
      "Please enter proportion of samples assigned to each class from 0 to 100 \n",
      " 5\n"
     ]
    }
   ],
   "source": [
    "weights = float(input(\"Please enter proportion of samples assigned to each class from 0 to 100 \\n\"))/100"
   ]
  },
  {
   "cell_type": "markdown",
   "id": "d08a76c9-6e76-47a6-b879-893812e49165",
   "metadata": {},
   "source": [
    "#### Create a class `DataGenerator`"
   ]
  },
  {
   "cell_type": "code",
   "execution_count": 8,
   "id": "e1acfa78-4bbf-4310-b83c-0380c0412131",
   "metadata": {},
   "outputs": [],
   "source": [
    "class DataGenerator:\n",
    "    \n",
    "    def __init__(self, n_samples, n_features, n_informative, n_redundant, n_repeated, n_classes, \n",
    "                 n_clusters_per_class, flip_y, null_prob):\n",
    "        ''' generate data using the make_classification module '''\n",
    "        self.n_samples = n_samples\n",
    "        self.n_features = n_features\n",
    "        self.n_informative = n_informative\n",
    "        self.n_redundant = n_redundant\n",
    "        self.n_repeated = n_repeated\n",
    "        self.n_classes = n_classes\n",
    "        self.n_clusters_per_class = n_clusters_per_class\n",
    "        self.flip_y = flip_y\n",
    "        self.null_prob = null_prob\n",
    "\n",
    "    def generate_random_data(self):\n",
    "        X,y = make_classification(n_samples=self.n_samples, n_features=self.n_features,\n",
    "                            n_informative=self.n_informative, n_redundant=self.n_redundant, n_repeated=self.n_repeated, \n",
    "                            n_classes=self.n_classes, n_clusters_per_class=self.n_clusters_per_class, \n",
    "                            flip_y=self.flip_y, class_sep=1.0, hypercube=True, shift=0.0, \n",
    "                            scale=1.0, shuffle=True, random_state=None)\n",
    "        return X,y\n",
    "        \n",
    "    def create_dataframe(self):\n",
    "        X,y = self.generate_random_data()\n",
    "        featurenames = list()\n",
    "        for i in range(n_features):\n",
    "            featurenames.append(f\"x{i}\")\n",
    "        df = pd.concat([pd.DataFrame(X, columns=featurenames), \n",
    "                        pd.DataFrame(y, columns=['y'])], axis=1)\n",
    "\n",
    "        ### generate random null values\n",
    "        X = df.drop('y', axis=1) ### create dataframe with just X variables\n",
    "        for col in X.columns:\n",
    "            mask_values = np.random.choice([np.nan, True], size=df.shape[0], p=[self.null_prob, 1 - self.null_prob])\n",
    "            df[col] = df[col]*mask_values\n",
    "        return df"
   ]
  },
  {
   "cell_type": "markdown",
   "id": "bc76bf8d-ff1f-4e4e-ac97-d9bc910c1a0b",
   "metadata": {},
   "source": [
    "#### Run the `DataGenerator` class and generate the dataframe"
   ]
  },
  {
   "cell_type": "code",
   "execution_count": 9,
   "id": "578c3987-768e-4371-9312-7341f3e9ed1f",
   "metadata": {},
   "outputs": [],
   "source": [
    "generator = DataGenerator(n_samples=n_rows, n_features=n_features, n_informative=n_informative, \n",
    "                          n_redundant=2, n_repeated=0, n_classes=2, flip_y=flip_y, \n",
    "                          n_clusters_per_class=2, \n",
    "                          null_prob=.001)\n",
    "df = generator.create_dataframe()"
   ]
  },
  {
   "cell_type": "markdown",
   "id": "6ffdf199-79ba-42bd-839d-e37f781de931",
   "metadata": {},
   "source": [
    "#### Inspect the resulting dataframe"
   ]
  },
  {
   "cell_type": "code",
   "execution_count": 10,
   "id": "aa4c6881-2c31-4f27-9ecc-8c89ab14f76f",
   "metadata": {},
   "outputs": [
    {
     "name": "stdout",
     "output_type": "stream",
     "text": [
      "<class 'pandas.core.frame.DataFrame'>\n",
      "RangeIndex: 10000 entries, 0 to 9999\n",
      "Data columns (total 41 columns):\n",
      " #   Column  Non-Null Count  Dtype  \n",
      "---  ------  --------------  -----  \n",
      " 0   x0      9989 non-null   float64\n",
      " 1   x1      9986 non-null   float64\n",
      " 2   x2      9990 non-null   float64\n",
      " 3   x3      9988 non-null   float64\n",
      " 4   x4      9991 non-null   float64\n",
      " 5   x5      9992 non-null   float64\n",
      " 6   x6      9991 non-null   float64\n",
      " 7   x7      9985 non-null   float64\n",
      " 8   x8      9991 non-null   float64\n",
      " 9   x9      9989 non-null   float64\n",
      " 10  x10     9993 non-null   float64\n",
      " 11  x11     9982 non-null   float64\n",
      " 12  x12     9987 non-null   float64\n",
      " 13  x13     9987 non-null   float64\n",
      " 14  x14     9992 non-null   float64\n",
      " 15  x15     9994 non-null   float64\n",
      " 16  x16     9992 non-null   float64\n",
      " 17  x17     9988 non-null   float64\n",
      " 18  x18     9988 non-null   float64\n",
      " 19  x19     9990 non-null   float64\n",
      " 20  x20     9995 non-null   float64\n",
      " 21  x21     9995 non-null   float64\n",
      " 22  x22     9993 non-null   float64\n",
      " 23  x23     9989 non-null   float64\n",
      " 24  x24     9990 non-null   float64\n",
      " 25  x25     9986 non-null   float64\n",
      " 26  x26     9988 non-null   float64\n",
      " 27  x27     9989 non-null   float64\n",
      " 28  x28     9987 non-null   float64\n",
      " 29  x29     9996 non-null   float64\n",
      " 30  x30     9991 non-null   float64\n",
      " 31  x31     9988 non-null   float64\n",
      " 32  x32     9994 non-null   float64\n",
      " 33  x33     9992 non-null   float64\n",
      " 34  x34     9993 non-null   float64\n",
      " 35  x35     9989 non-null   float64\n",
      " 36  x36     9990 non-null   float64\n",
      " 37  x37     9989 non-null   float64\n",
      " 38  x38     9987 non-null   float64\n",
      " 39  x39     9992 non-null   float64\n",
      " 40  y       10000 non-null  int64  \n",
      "dtypes: float64(40), int64(1)\n",
      "memory usage: 3.1 MB\n"
     ]
    }
   ],
   "source": [
    "df.info()"
   ]
  },
  {
   "cell_type": "code",
   "execution_count": 11,
   "id": "68015c4e-0dd2-4fa7-b655-1e454a5b227c",
   "metadata": {},
   "outputs": [
    {
     "data": {
      "text/html": [
       "<div>\n",
       "<style scoped>\n",
       "    .dataframe tbody tr th:only-of-type {\n",
       "        vertical-align: middle;\n",
       "    }\n",
       "\n",
       "    .dataframe tbody tr th {\n",
       "        vertical-align: top;\n",
       "    }\n",
       "\n",
       "    .dataframe thead th {\n",
       "        text-align: right;\n",
       "    }\n",
       "</style>\n",
       "<table border=\"1\" class=\"dataframe\">\n",
       "  <thead>\n",
       "    <tr style=\"text-align: right;\">\n",
       "      <th></th>\n",
       "      <th>x0</th>\n",
       "      <th>x1</th>\n",
       "      <th>x2</th>\n",
       "      <th>x3</th>\n",
       "      <th>x4</th>\n",
       "      <th>x5</th>\n",
       "      <th>x6</th>\n",
       "      <th>x7</th>\n",
       "      <th>x8</th>\n",
       "      <th>x9</th>\n",
       "      <th>...</th>\n",
       "      <th>x31</th>\n",
       "      <th>x32</th>\n",
       "      <th>x33</th>\n",
       "      <th>x34</th>\n",
       "      <th>x35</th>\n",
       "      <th>x36</th>\n",
       "      <th>x37</th>\n",
       "      <th>x38</th>\n",
       "      <th>x39</th>\n",
       "      <th>y</th>\n",
       "    </tr>\n",
       "  </thead>\n",
       "  <tbody>\n",
       "    <tr>\n",
       "      <th>0</th>\n",
       "      <td>1.563312</td>\n",
       "      <td>-1.417454</td>\n",
       "      <td>-0.490210</td>\n",
       "      <td>-1.568689</td>\n",
       "      <td>0.367421</td>\n",
       "      <td>0.070303</td>\n",
       "      <td>-0.535064</td>\n",
       "      <td>0.161154</td>\n",
       "      <td>0.130255</td>\n",
       "      <td>0.753823</td>\n",
       "      <td>...</td>\n",
       "      <td>-0.611644</td>\n",
       "      <td>1.807765</td>\n",
       "      <td>0.089677</td>\n",
       "      <td>-1.289779</td>\n",
       "      <td>0.303392</td>\n",
       "      <td>0.791001</td>\n",
       "      <td>-1.147663</td>\n",
       "      <td>0.311395</td>\n",
       "      <td>-0.097479</td>\n",
       "      <td>1</td>\n",
       "    </tr>\n",
       "    <tr>\n",
       "      <th>1</th>\n",
       "      <td>-1.952179</td>\n",
       "      <td>0.127013</td>\n",
       "      <td>1.538298</td>\n",
       "      <td>0.346906</td>\n",
       "      <td>1.188424</td>\n",
       "      <td>0.812583</td>\n",
       "      <td>-0.931559</td>\n",
       "      <td>0.815114</td>\n",
       "      <td>-0.331135</td>\n",
       "      <td>-1.202110</td>\n",
       "      <td>...</td>\n",
       "      <td>0.126718</td>\n",
       "      <td>-1.478616</td>\n",
       "      <td>-0.573930</td>\n",
       "      <td>-0.300777</td>\n",
       "      <td>-2.489546</td>\n",
       "      <td>1.101826</td>\n",
       "      <td>-0.736897</td>\n",
       "      <td>1.109234</td>\n",
       "      <td>0.411488</td>\n",
       "      <td>0</td>\n",
       "    </tr>\n",
       "    <tr>\n",
       "      <th>2</th>\n",
       "      <td>0.966699</td>\n",
       "      <td>-0.476276</td>\n",
       "      <td>0.491713</td>\n",
       "      <td>1.778521</td>\n",
       "      <td>-0.977243</td>\n",
       "      <td>-0.465307</td>\n",
       "      <td>-1.026294</td>\n",
       "      <td>0.526787</td>\n",
       "      <td>-0.423048</td>\n",
       "      <td>1.584421</td>\n",
       "      <td>...</td>\n",
       "      <td>0.372821</td>\n",
       "      <td>2.019703</td>\n",
       "      <td>1.059188</td>\n",
       "      <td>1.710667</td>\n",
       "      <td>-0.395971</td>\n",
       "      <td>0.533767</td>\n",
       "      <td>-1.245003</td>\n",
       "      <td>0.315812</td>\n",
       "      <td>-0.696607</td>\n",
       "      <td>0</td>\n",
       "    </tr>\n",
       "    <tr>\n",
       "      <th>3</th>\n",
       "      <td>0.245790</td>\n",
       "      <td>0.217226</td>\n",
       "      <td>0.044321</td>\n",
       "      <td>0.741132</td>\n",
       "      <td>2.287139</td>\n",
       "      <td>-0.013715</td>\n",
       "      <td>-0.359327</td>\n",
       "      <td>0.510777</td>\n",
       "      <td>0.765334</td>\n",
       "      <td>0.655096</td>\n",
       "      <td>...</td>\n",
       "      <td>-0.257412</td>\n",
       "      <td>-1.630353</td>\n",
       "      <td>1.331750</td>\n",
       "      <td>-0.744338</td>\n",
       "      <td>-0.536401</td>\n",
       "      <td>-0.619755</td>\n",
       "      <td>-0.867709</td>\n",
       "      <td>-0.840118</td>\n",
       "      <td>0.388468</td>\n",
       "      <td>0</td>\n",
       "    </tr>\n",
       "    <tr>\n",
       "      <th>4</th>\n",
       "      <td>0.224607</td>\n",
       "      <td>0.593478</td>\n",
       "      <td>-0.069498</td>\n",
       "      <td>-1.340076</td>\n",
       "      <td>0.573069</td>\n",
       "      <td>0.926663</td>\n",
       "      <td>-1.141124</td>\n",
       "      <td>-0.172414</td>\n",
       "      <td>-1.868113</td>\n",
       "      <td>0.791384</td>\n",
       "      <td>...</td>\n",
       "      <td>1.622028</td>\n",
       "      <td>-1.032052</td>\n",
       "      <td>-2.151920</td>\n",
       "      <td>-0.814780</td>\n",
       "      <td>-0.248285</td>\n",
       "      <td>-0.529315</td>\n",
       "      <td>1.086025</td>\n",
       "      <td>-0.307067</td>\n",
       "      <td>0.555658</td>\n",
       "      <td>0</td>\n",
       "    </tr>\n",
       "  </tbody>\n",
       "</table>\n",
       "<p>5 rows × 41 columns</p>\n",
       "</div>"
      ],
      "text/plain": [
       "         x0        x1        x2        x3        x4        x5        x6  \\\n",
       "0  1.563312 -1.417454 -0.490210 -1.568689  0.367421  0.070303 -0.535064   \n",
       "1 -1.952179  0.127013  1.538298  0.346906  1.188424  0.812583 -0.931559   \n",
       "2  0.966699 -0.476276  0.491713  1.778521 -0.977243 -0.465307 -1.026294   \n",
       "3  0.245790  0.217226  0.044321  0.741132  2.287139 -0.013715 -0.359327   \n",
       "4  0.224607  0.593478 -0.069498 -1.340076  0.573069  0.926663 -1.141124   \n",
       "\n",
       "         x7        x8        x9  ...       x31       x32       x33       x34  \\\n",
       "0  0.161154  0.130255  0.753823  ... -0.611644  1.807765  0.089677 -1.289779   \n",
       "1  0.815114 -0.331135 -1.202110  ...  0.126718 -1.478616 -0.573930 -0.300777   \n",
       "2  0.526787 -0.423048  1.584421  ...  0.372821  2.019703  1.059188  1.710667   \n",
       "3  0.510777  0.765334  0.655096  ... -0.257412 -1.630353  1.331750 -0.744338   \n",
       "4 -0.172414 -1.868113  0.791384  ...  1.622028 -1.032052 -2.151920 -0.814780   \n",
       "\n",
       "        x35       x36       x37       x38       x39  y  \n",
       "0  0.303392  0.791001 -1.147663  0.311395 -0.097479  1  \n",
       "1 -2.489546  1.101826 -0.736897  1.109234  0.411488  0  \n",
       "2 -0.395971  0.533767 -1.245003  0.315812 -0.696607  0  \n",
       "3 -0.536401 -0.619755 -0.867709 -0.840118  0.388468  0  \n",
       "4 -0.248285 -0.529315  1.086025 -0.307067  0.555658  0  \n",
       "\n",
       "[5 rows x 41 columns]"
      ]
     },
     "execution_count": 11,
     "metadata": {},
     "output_type": "execute_result"
    }
   ],
   "source": [
    "df.head()"
   ]
  },
  {
   "cell_type": "markdown",
   "id": "d46f9a36-7dac-4d40-9380-f9bc8bc3c09b",
   "metadata": {},
   "source": [
    "### Save resulting dataframe to csv"
   ]
  },
  {
   "cell_type": "code",
   "execution_count": 12,
   "id": "e3f9a63b-8fa7-4cc6-82f9-860193906f21",
   "metadata": {},
   "outputs": [],
   "source": [
    "df.to_csv('../data/raw/raw_data.csv', index=False)"
   ]
  },
  {
   "cell_type": "markdown",
   "id": "d5a5a938-c443-4a5f-b879-290746cafb22",
   "metadata": {},
   "source": [
    "# Approach 2: Using numpy `randomint` method "
   ]
  },
  {
   "cell_type": "markdown",
   "id": "57a06896-f4aa-4ee5-8d33-4765d96cbca2",
   "metadata": {},
   "source": [
    "This method generates arrays of random integers from specified low to high values drawn from a discrete uniform distribution. See the reference documentation [here](https://numpy.org/doc/stable/reference/random/generated/numpy.random.randint.html). The feature columns of the resulting dataset will be orthogonal to each other; that is, there will be no interdependence between the features as they each will be generated following an independent random process."
   ]
  },
  {
   "cell_type": "markdown",
   "id": "1efa08d3-8e41-4a15-b1e6-ee1b94b18f58",
   "metadata": {},
   "source": [
    "#### Create a class `DataGeneratorRandomInt`"
   ]
  },
  {
   "cell_type": "code",
   "execution_count": 13,
   "id": "5ebfe463-9824-450b-85e8-231a5c02b1a7",
   "metadata": {},
   "outputs": [],
   "source": [
    "class DataGeneratorRandomInt:\n",
    "    def __init__(self, num_rows, num_features, min_value, max_value, null_prob, flip_y):\n",
    "        self.num_rows = n_rows\n",
    "        self.num_features = n_features\n",
    "        self.min_value = min_value\n",
    "        self.max_value = max_value\n",
    "        self.null_prob = null_prob\n",
    "        self.flip_y= flip_y\n",
    "\n",
    "    def generate_random_data(self):\n",
    "        X = np.random.randint(self.min_value, self.max_value, size=(self.num_rows+1, self.num_features+1))\n",
    "        \n",
    "        ### generate binary output variable    \n",
    "        y = np.random.choice([0, 1], size=self.num_rows, p=[1-self.flip_y, self.flip_y])  # Binary output column\n",
    "        return X,y\n",
    "\n",
    "    def create_dataframe(self):\n",
    "        X,y = self.generate_random_data()\n",
    "        data = pd.DataFrame(data=X[1:,1:], index=X[1:,0], columns=X[0,1:])\n",
    "        y = pd.DataFrame(pd.Series(data=y[:]), columns=['y'])\n",
    "        \n",
    "        # create column names\n",
    "        featurenames = list()\n",
    "        for i in range(n_features):\n",
    "            featurenames.append(f\"x{i}\")\n",
    "        data.columns = featurenames\n",
    "\n",
    "        ### generate random null values\n",
    "        for col in data.columns:\n",
    "            mask_values = np.random.choice([np.nan, True], size=data.shape[0], p=[self.null_prob, 1 - self.null_prob])\n",
    "            data[col] = data[col]*mask_values\n",
    "        \n",
    "        data = data.reset_index()\n",
    "        \n",
    "        df = pd.concat([pd.DataFrame(data, columns=featurenames),\n",
    "                       pd.DataFrame(y, columns=['y'])], axis=1)\n",
    "\n",
    "        ### create resulting dataframe\n",
    "        df = pd.concat([pd.DataFrame(data, columns=featurenames),\n",
    "               pd.DataFrame(y, columns=['y'])], axis=1)\n",
    "        \n",
    "        return df\n"
   ]
  },
  {
   "cell_type": "markdown",
   "id": "a79a0cee-2ace-479f-aafa-7aee9647479c",
   "metadata": {},
   "source": [
    "### Create dataframe"
   ]
  },
  {
   "cell_type": "code",
   "execution_count": 14,
   "id": "9a4bbf7c-bc81-40f5-a562-3d68061b5f1b",
   "metadata": {},
   "outputs": [],
   "source": [
    "# # Generate a small portion of null values at random\n",
    "generator = DataGeneratorRandomInt(num_rows = n_rows, min_value = -200, max_value=500, \n",
    "                                   num_features = n_features,\n",
    "                                   null_prob = .001, flip_y= flip_y)\n",
    "df = generator.create_dataframe()"
   ]
  },
  {
   "cell_type": "code",
   "execution_count": 15,
   "id": "2ee9ddc7-4cb8-4333-97f8-ecba47b13701",
   "metadata": {},
   "outputs": [
    {
     "data": {
      "text/plain": [
       "(10000, 41)"
      ]
     },
     "execution_count": 15,
     "metadata": {},
     "output_type": "execute_result"
    }
   ],
   "source": [
    "df.shape"
   ]
  },
  {
   "cell_type": "code",
   "execution_count": 16,
   "id": "4888a300-5fcf-4933-89c3-79309d5c745d",
   "metadata": {},
   "outputs": [
    {
     "name": "stdout",
     "output_type": "stream",
     "text": [
      "<class 'pandas.core.frame.DataFrame'>\n",
      "RangeIndex: 10000 entries, 0 to 9999\n",
      "Data columns (total 41 columns):\n",
      " #   Column  Non-Null Count  Dtype  \n",
      "---  ------  --------------  -----  \n",
      " 0   x0      9989 non-null   float64\n",
      " 1   x1      9988 non-null   float64\n",
      " 2   x2      9991 non-null   float64\n",
      " 3   x3      9990 non-null   float64\n",
      " 4   x4      9989 non-null   float64\n",
      " 5   x5      9987 non-null   float64\n",
      " 6   x6      9988 non-null   float64\n",
      " 7   x7      9988 non-null   float64\n",
      " 8   x8      9989 non-null   float64\n",
      " 9   x9      9994 non-null   float64\n",
      " 10  x10     9994 non-null   float64\n",
      " 11  x11     9989 non-null   float64\n",
      " 12  x12     9993 non-null   float64\n",
      " 13  x13     9984 non-null   float64\n",
      " 14  x14     9992 non-null   float64\n",
      " 15  x15     9990 non-null   float64\n",
      " 16  x16     9994 non-null   float64\n",
      " 17  x17     9986 non-null   float64\n",
      " 18  x18     9990 non-null   float64\n",
      " 19  x19     9991 non-null   float64\n",
      " 20  x20     9992 non-null   float64\n",
      " 21  x21     9991 non-null   float64\n",
      " 22  x22     9992 non-null   float64\n",
      " 23  x23     9993 non-null   float64\n",
      " 24  x24     9992 non-null   float64\n",
      " 25  x25     9991 non-null   float64\n",
      " 26  x26     9987 non-null   float64\n",
      " 27  x27     9988 non-null   float64\n",
      " 28  x28     9987 non-null   float64\n",
      " 29  x29     9991 non-null   float64\n",
      " 30  x30     9989 non-null   float64\n",
      " 31  x31     9986 non-null   float64\n",
      " 32  x32     9988 non-null   float64\n",
      " 33  x33     9989 non-null   float64\n",
      " 34  x34     9988 non-null   float64\n",
      " 35  x35     9995 non-null   float64\n",
      " 36  x36     9991 non-null   float64\n",
      " 37  x37     9991 non-null   float64\n",
      " 38  x38     9989 non-null   float64\n",
      " 39  x39     9985 non-null   float64\n",
      " 40  y       10000 non-null  int64  \n",
      "dtypes: float64(40), int64(1)\n",
      "memory usage: 3.1 MB\n"
     ]
    }
   ],
   "source": [
    "df.info()"
   ]
  },
  {
   "cell_type": "markdown",
   "id": "b23de865-6416-4079-968c-4a1b732a21a8",
   "metadata": {},
   "source": [
    "### Save resulting dataframe to csv"
   ]
  },
  {
   "cell_type": "code",
   "execution_count": 17,
   "id": "695b214e-f9e6-428c-bc83-6de02e24eb08",
   "metadata": {},
   "outputs": [],
   "source": [
    "df.to_csv('../data/raw/raw_data2.csv', index=False)"
   ]
  },
  {
   "cell_type": "code",
   "execution_count": null,
   "id": "b26f57d9-3ffa-4de4-82cb-78197975a897",
   "metadata": {},
   "outputs": [],
   "source": []
  }
 ],
 "metadata": {
  "kernelspec": {
   "display_name": "Python 3 (ipykernel)",
   "language": "python",
   "name": "python3"
  },
  "language_info": {
   "codemirror_mode": {
    "name": "ipython",
    "version": 3
   },
   "file_extension": ".py",
   "mimetype": "text/x-python",
   "name": "python",
   "nbconvert_exporter": "python",
   "pygments_lexer": "ipython3",
   "version": "3.9.19"
  }
 },
 "nbformat": 4,
 "nbformat_minor": 5
}
