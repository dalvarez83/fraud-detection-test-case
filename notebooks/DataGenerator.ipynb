{
 "cells": [
  {
   "cell_type": "markdown",
   "id": "03679f4b-80ec-46f2-9c6e-914a443fe14d",
   "metadata": {},
   "source": [
    "# Synthetic data generator for anomaly detection technical challenge problem"
   ]
  },
  {
   "cell_type": "markdown",
   "id": "d7f75f5a-907a-4179-85ed-72187b13afca",
   "metadata": {},
   "source": [
    "### Objective\n",
    "\n",
    "- Create a N-column dataframe with three explanatory feature columns and a binary output/response variable column.\n",
    "- Each column should have null values missing at random.\n",
    "- Each explanatory feature column should consist of random values ranging from -1 to 1 \n",
    "- Dataframe should be 10000 rows in length, so resulting dataframe should be a 10000 x N dimension matrix.\n",
    "- Save the dataframe to a CSV called `raw_data.csv`  "
   ]
  },
  {
   "cell_type": "markdown",
   "id": "72d8401c-588e-40c1-8700-3d267e087697",
   "metadata": {},
   "source": [
    "### Installations"
   ]
  },
  {
   "cell_type": "code",
   "execution_count": 1,
   "id": "a5887339-95c4-42ea-9320-0d6fa71ad942",
   "metadata": {},
   "outputs": [],
   "source": [
    "import pandas as pd\n",
    "import numpy as np\n",
    "from sklearn.datasets import make_classification"
   ]
  },
  {
   "cell_type": "markdown",
   "id": "fb0b0598-451c-4dcb-988b-1f8b67938b20",
   "metadata": {},
   "source": [
    "# Approach 1: Using sci-kit learn's `make_classification` method"
   ]
  },
  {
   "cell_type": "markdown",
   "id": "1350c421-a129-4a3f-b082-f44daf7b1a9f",
   "metadata": {},
   "source": [
    "The `make_classification` method is a module under sci-kit learn's datasets APIs that creates an a random n-class classification problem. The clever part about this method is that it initially creates clusters of points normally distributed (std=1) about vertices of an `n_informative`-dimensional hypercube with sides of length 2*`class_sep` and assigns an equal number of clusters to each class. It introduces interdependence between these features and adds various types of further noise to the data.See API reference documentation [here](https://scikit-learn.org/stable/modules/generated/sklearn.datasets.make_classification.html#sklearn.datasets.make_classification)."
   ]
  },
  {
   "cell_type": "markdown",
   "id": "00df2e7e-5be4-4056-9edd-a174719a2398",
   "metadata": {},
   "source": [
    "I enter the number of rows for the dataset"
   ]
  },
  {
   "cell_type": "code",
   "execution_count": 2,
   "id": "e6725752-f3db-492b-adfd-294134f7d14a",
   "metadata": {},
   "outputs": [
    {
     "name": "stdin",
     "output_type": "stream",
     "text": [
      "Please enter number of rows for the dataset \n",
      " 10000\n"
     ]
    }
   ],
   "source": [
    "### enter number of features for the dataset\n",
    "n_rows = int(input(\"Please enter number of rows for the dataset \\n\"))"
   ]
  },
  {
   "cell_type": "markdown",
   "id": "199882e0-68de-403c-8451-dd04277a2347",
   "metadata": {},
   "source": [
    "I enter the number of features I want in the dataset."
   ]
  },
  {
   "cell_type": "code",
   "execution_count": 3,
   "id": "e82fdf63-a1fa-430c-9385-c9152f159b22",
   "metadata": {},
   "outputs": [
    {
     "name": "stdin",
     "output_type": "stream",
     "text": [
      "Please enter number of features for the dataset \n",
      " 40\n"
     ]
    }
   ],
   "source": [
    "### enter number of features for the dataset\n",
    "n_features = int(input(\"Please enter number of features for the dataset \\n\"))"
   ]
  },
  {
   "cell_type": "markdown",
   "id": "ef8cb33e-aba3-4cae-8179-c8a51ac68c14",
   "metadata": {},
   "source": [
    "Then, I enter the number of informative features. The informative features serve as the vertices of the `n_informative`-dimensional hypercube."
   ]
  },
  {
   "cell_type": "code",
   "execution_count": 4,
   "id": "ae00e847-22ed-4a4c-816e-aa4c8de1919f",
   "metadata": {},
   "outputs": [
    {
     "name": "stdin",
     "output_type": "stream",
     "text": [
      "Please enter number of informative features for the dataset \n",
      " 3\n"
     ]
    }
   ],
   "source": [
    "### enter number of informative features for the dataset\n",
    "n_informative = int(input(\"Please enter number of informative features for the dataset \\n\"))"
   ]
  },
  {
   "cell_type": "markdown",
   "id": "50fe3344-ee4a-48b5-80e2-dd49c3969d6d",
   "metadata": {},
   "source": [
    "Then, I enter the probability of anomalies expected in the response variable"
   ]
  },
  {
   "cell_type": "code",
   "execution_count": 5,
   "id": "f2c2a264-f450-453a-957f-7690dab34fcc",
   "metadata": {},
   "outputs": [
    {
     "name": "stdin",
     "output_type": "stream",
     "text": [
      "Please enter probability of anomalies expected in the response variable from 0 to 100 \n",
      " .1\n"
     ]
    }
   ],
   "source": [
    "### enter probability of anomalies in the output variables\n",
    "flip_y = float(input(\"Please enter probability of anomalies expected in the response variable from 0 to 100 \\n\"))/100"
   ]
  },
  {
   "cell_type": "code",
   "execution_count": 6,
   "id": "85b4123f-d4c4-440d-811d-9bfa97b9aa09",
   "metadata": {},
   "outputs": [
    {
     "name": "stdout",
     "output_type": "stream",
     "text": [
      "0.001\n"
     ]
    }
   ],
   "source": [
    "print(flip_y)"
   ]
  },
  {
   "cell_type": "markdown",
   "id": "d08a76c9-6e76-47a6-b879-893812e49165",
   "metadata": {},
   "source": [
    "#### Create a class `DataGenerator`"
   ]
  },
  {
   "cell_type": "code",
   "execution_count": 7,
   "id": "e1acfa78-4bbf-4310-b83c-0380c0412131",
   "metadata": {},
   "outputs": [],
   "source": [
    "class DataGenerator:\n",
    "    \n",
    "    def __init__(self, n_samples, n_features, n_informative, n_redundant, n_repeated, n_classes, \n",
    "                 n_clusters_per_class, flip_y, null_prob):\n",
    "        ''' generate data using the make_classification module '''\n",
    "        self.n_samples = n_samples\n",
    "        self.n_features = n_features\n",
    "        self.n_informative = n_informative\n",
    "        self.n_redundant = n_redundant\n",
    "        self.n_repeated = n_repeated\n",
    "        self.n_classes = n_classes\n",
    "        self.n_clusters_per_class = n_clusters_per_class\n",
    "        self.flip_y = flip_y\n",
    "        self.null_prob = null_prob\n",
    "\n",
    "    def generate_random_data(self):\n",
    "        X,y = make_classification(n_samples=self.n_samples, n_features=self.n_features,\n",
    "                            n_informative=self.n_informative, n_redundant=self.n_redundant, n_repeated=self.n_repeated, \n",
    "                            n_classes=self.n_classes, n_clusters_per_class=self.n_clusters_per_class, weights=None, \n",
    "                            flip_y=self.flip_y, class_sep=1.0, hypercube=True, shift=0.0, \n",
    "                            scale=1.0, shuffle=True, random_state=None)\n",
    "        return X,y\n",
    "        \n",
    "    def create_dataframe(self):\n",
    "        X,y = self.generate_random_data()\n",
    "        featurenames = list()\n",
    "        for i in range(n_features):\n",
    "            featurenames.append(f\"x{i}\")\n",
    "        df = pd.concat([pd.DataFrame(X, columns=featurenames), \n",
    "                        pd.DataFrame(y, columns=['y'])], axis=1)\n",
    "\n",
    "        ### generate random null values\n",
    "        X = df.drop('y', axis=1) ### create dataframe with just X variables\n",
    "        for col in X.columns:\n",
    "            mask_values = np.random.choice([np.nan, True], size=df.shape[0], p=[self.null_prob, 1 - self.null_prob])\n",
    "            df[col] = df[col]*mask_values\n",
    "        return df"
   ]
  },
  {
   "cell_type": "markdown",
   "id": "bc76bf8d-ff1f-4e4e-ac97-d9bc910c1a0b",
   "metadata": {},
   "source": [
    "#### Run the `DataGenerator` class and generate the dataframe"
   ]
  },
  {
   "cell_type": "code",
   "execution_count": 8,
   "id": "578c3987-768e-4371-9312-7341f3e9ed1f",
   "metadata": {},
   "outputs": [],
   "source": [
    "generator = DataGenerator(n_samples=n_rows, n_features=n_features, n_informative=n_informative, \n",
    "                          n_redundant=2, n_repeated=0, n_classes=2, flip_y=flip_y, n_clusters_per_class=2, \n",
    "                          null_prob=.001)\n",
    "df = generator.create_dataframe()"
   ]
  },
  {
   "cell_type": "markdown",
   "id": "6ffdf199-79ba-42bd-839d-e37f781de931",
   "metadata": {},
   "source": [
    "#### Inspect the resulting dataframe"
   ]
  },
  {
   "cell_type": "code",
   "execution_count": 9,
   "id": "aa4c6881-2c31-4f27-9ecc-8c89ab14f76f",
   "metadata": {},
   "outputs": [
    {
     "name": "stdout",
     "output_type": "stream",
     "text": [
      "<class 'pandas.core.frame.DataFrame'>\n",
      "RangeIndex: 10000 entries, 0 to 9999\n",
      "Data columns (total 41 columns):\n",
      " #   Column  Non-Null Count  Dtype  \n",
      "---  ------  --------------  -----  \n",
      " 0   x0      9993 non-null   float64\n",
      " 1   x1      9993 non-null   float64\n",
      " 2   x2      9989 non-null   float64\n",
      " 3   x3      9986 non-null   float64\n",
      " 4   x4      9991 non-null   float64\n",
      " 5   x5      9989 non-null   float64\n",
      " 6   x6      9992 non-null   float64\n",
      " 7   x7      9989 non-null   float64\n",
      " 8   x8      9982 non-null   float64\n",
      " 9   x9      9985 non-null   float64\n",
      " 10  x10     9995 non-null   float64\n",
      " 11  x11     9985 non-null   float64\n",
      " 12  x12     9992 non-null   float64\n",
      " 13  x13     9981 non-null   float64\n",
      " 14  x14     9991 non-null   float64\n",
      " 15  x15     9992 non-null   float64\n",
      " 16  x16     9990 non-null   float64\n",
      " 17  x17     9988 non-null   float64\n",
      " 18  x18     9991 non-null   float64\n",
      " 19  x19     9993 non-null   float64\n",
      " 20  x20     9989 non-null   float64\n",
      " 21  x21     9995 non-null   float64\n",
      " 22  x22     9988 non-null   float64\n",
      " 23  x23     9992 non-null   float64\n",
      " 24  x24     9990 non-null   float64\n",
      " 25  x25     9990 non-null   float64\n",
      " 26  x26     9988 non-null   float64\n",
      " 27  x27     9987 non-null   float64\n",
      " 28  x28     9991 non-null   float64\n",
      " 29  x29     9991 non-null   float64\n",
      " 30  x30     9989 non-null   float64\n",
      " 31  x31     9988 non-null   float64\n",
      " 32  x32     9991 non-null   float64\n",
      " 33  x33     9994 non-null   float64\n",
      " 34  x34     9988 non-null   float64\n",
      " 35  x35     9983 non-null   float64\n",
      " 36  x36     9994 non-null   float64\n",
      " 37  x37     9990 non-null   float64\n",
      " 38  x38     9992 non-null   float64\n",
      " 39  x39     9994 non-null   float64\n",
      " 40  y       10000 non-null  int64  \n",
      "dtypes: float64(40), int64(1)\n",
      "memory usage: 3.1 MB\n"
     ]
    }
   ],
   "source": [
    "df.info()"
   ]
  },
  {
   "cell_type": "code",
   "execution_count": 10,
   "id": "68015c4e-0dd2-4fa7-b655-1e454a5b227c",
   "metadata": {},
   "outputs": [
    {
     "data": {
      "text/html": [
       "<div>\n",
       "<style scoped>\n",
       "    .dataframe tbody tr th:only-of-type {\n",
       "        vertical-align: middle;\n",
       "    }\n",
       "\n",
       "    .dataframe tbody tr th {\n",
       "        vertical-align: top;\n",
       "    }\n",
       "\n",
       "    .dataframe thead th {\n",
       "        text-align: right;\n",
       "    }\n",
       "</style>\n",
       "<table border=\"1\" class=\"dataframe\">\n",
       "  <thead>\n",
       "    <tr style=\"text-align: right;\">\n",
       "      <th></th>\n",
       "      <th>x0</th>\n",
       "      <th>x1</th>\n",
       "      <th>x2</th>\n",
       "      <th>x3</th>\n",
       "      <th>x4</th>\n",
       "      <th>x5</th>\n",
       "      <th>x6</th>\n",
       "      <th>x7</th>\n",
       "      <th>x8</th>\n",
       "      <th>x9</th>\n",
       "      <th>...</th>\n",
       "      <th>x31</th>\n",
       "      <th>x32</th>\n",
       "      <th>x33</th>\n",
       "      <th>x34</th>\n",
       "      <th>x35</th>\n",
       "      <th>x36</th>\n",
       "      <th>x37</th>\n",
       "      <th>x38</th>\n",
       "      <th>x39</th>\n",
       "      <th>y</th>\n",
       "    </tr>\n",
       "  </thead>\n",
       "  <tbody>\n",
       "    <tr>\n",
       "      <th>0</th>\n",
       "      <td>0.302641</td>\n",
       "      <td>-1.214299</td>\n",
       "      <td>-1.237851</td>\n",
       "      <td>1.500564</td>\n",
       "      <td>-0.809244</td>\n",
       "      <td>-0.453045</td>\n",
       "      <td>-0.681977</td>\n",
       "      <td>2.434565</td>\n",
       "      <td>-1.005304</td>\n",
       "      <td>-0.779614</td>\n",
       "      <td>...</td>\n",
       "      <td>-0.512130</td>\n",
       "      <td>0.273504</td>\n",
       "      <td>-0.507911</td>\n",
       "      <td>0.291439</td>\n",
       "      <td>1.127498</td>\n",
       "      <td>0.609934</td>\n",
       "      <td>-0.659774</td>\n",
       "      <td>0.272546</td>\n",
       "      <td>3.254557</td>\n",
       "      <td>1</td>\n",
       "    </tr>\n",
       "    <tr>\n",
       "      <th>1</th>\n",
       "      <td>0.864286</td>\n",
       "      <td>-0.384370</td>\n",
       "      <td>0.732784</td>\n",
       "      <td>-1.536662</td>\n",
       "      <td>-0.040546</td>\n",
       "      <td>1.358753</td>\n",
       "      <td>-1.505183</td>\n",
       "      <td>-1.365040</td>\n",
       "      <td>0.665650</td>\n",
       "      <td>-0.543010</td>\n",
       "      <td>...</td>\n",
       "      <td>0.126575</td>\n",
       "      <td>2.095989</td>\n",
       "      <td>-1.035311</td>\n",
       "      <td>1.680535</td>\n",
       "      <td>-0.184652</td>\n",
       "      <td>-1.523623</td>\n",
       "      <td>-1.210366</td>\n",
       "      <td>0.530463</td>\n",
       "      <td>0.064731</td>\n",
       "      <td>0</td>\n",
       "    </tr>\n",
       "    <tr>\n",
       "      <th>2</th>\n",
       "      <td>-0.081551</td>\n",
       "      <td>0.276981</td>\n",
       "      <td>0.447198</td>\n",
       "      <td>0.004848</td>\n",
       "      <td>-1.327149</td>\n",
       "      <td>0.452720</td>\n",
       "      <td>-1.308048</td>\n",
       "      <td>-1.235946</td>\n",
       "      <td>-0.242406</td>\n",
       "      <td>0.912493</td>\n",
       "      <td>...</td>\n",
       "      <td>1.769273</td>\n",
       "      <td>-0.888809</td>\n",
       "      <td>0.860746</td>\n",
       "      <td>-1.344168</td>\n",
       "      <td>1.449890</td>\n",
       "      <td>-0.284197</td>\n",
       "      <td>0.182651</td>\n",
       "      <td>-0.875516</td>\n",
       "      <td>0.201180</td>\n",
       "      <td>0</td>\n",
       "    </tr>\n",
       "    <tr>\n",
       "      <th>3</th>\n",
       "      <td>-1.839067</td>\n",
       "      <td>-0.230459</td>\n",
       "      <td>0.707327</td>\n",
       "      <td>0.367956</td>\n",
       "      <td>-0.612517</td>\n",
       "      <td>-0.326254</td>\n",
       "      <td>-1.371485</td>\n",
       "      <td>-1.414597</td>\n",
       "      <td>-0.530898</td>\n",
       "      <td>-0.094590</td>\n",
       "      <td>...</td>\n",
       "      <td>-1.076153</td>\n",
       "      <td>0.555456</td>\n",
       "      <td>-0.889047</td>\n",
       "      <td>1.238357</td>\n",
       "      <td>-0.979190</td>\n",
       "      <td>-0.788289</td>\n",
       "      <td>-0.744712</td>\n",
       "      <td>-1.077059</td>\n",
       "      <td>-2.509356</td>\n",
       "      <td>1</td>\n",
       "    </tr>\n",
       "    <tr>\n",
       "      <th>4</th>\n",
       "      <td>-0.219991</td>\n",
       "      <td>0.918923</td>\n",
       "      <td>1.346278</td>\n",
       "      <td>1.156418</td>\n",
       "      <td>-0.668577</td>\n",
       "      <td>0.914416</td>\n",
       "      <td>0.659790</td>\n",
       "      <td>1.643310</td>\n",
       "      <td>0.715243</td>\n",
       "      <td>-0.178283</td>\n",
       "      <td>...</td>\n",
       "      <td>0.534930</td>\n",
       "      <td>1.018432</td>\n",
       "      <td>-0.993205</td>\n",
       "      <td>0.451348</td>\n",
       "      <td>-0.463202</td>\n",
       "      <td>-0.963436</td>\n",
       "      <td>0.460263</td>\n",
       "      <td>-0.340758</td>\n",
       "      <td>0.130820</td>\n",
       "      <td>1</td>\n",
       "    </tr>\n",
       "  </tbody>\n",
       "</table>\n",
       "<p>5 rows × 41 columns</p>\n",
       "</div>"
      ],
      "text/plain": [
       "         x0        x1        x2        x3        x4        x5        x6  \\\n",
       "0  0.302641 -1.214299 -1.237851  1.500564 -0.809244 -0.453045 -0.681977   \n",
       "1  0.864286 -0.384370  0.732784 -1.536662 -0.040546  1.358753 -1.505183   \n",
       "2 -0.081551  0.276981  0.447198  0.004848 -1.327149  0.452720 -1.308048   \n",
       "3 -1.839067 -0.230459  0.707327  0.367956 -0.612517 -0.326254 -1.371485   \n",
       "4 -0.219991  0.918923  1.346278  1.156418 -0.668577  0.914416  0.659790   \n",
       "\n",
       "         x7        x8        x9  ...       x31       x32       x33       x34  \\\n",
       "0  2.434565 -1.005304 -0.779614  ... -0.512130  0.273504 -0.507911  0.291439   \n",
       "1 -1.365040  0.665650 -0.543010  ...  0.126575  2.095989 -1.035311  1.680535   \n",
       "2 -1.235946 -0.242406  0.912493  ...  1.769273 -0.888809  0.860746 -1.344168   \n",
       "3 -1.414597 -0.530898 -0.094590  ... -1.076153  0.555456 -0.889047  1.238357   \n",
       "4  1.643310  0.715243 -0.178283  ...  0.534930  1.018432 -0.993205  0.451348   \n",
       "\n",
       "        x35       x36       x37       x38       x39  y  \n",
       "0  1.127498  0.609934 -0.659774  0.272546  3.254557  1  \n",
       "1 -0.184652 -1.523623 -1.210366  0.530463  0.064731  0  \n",
       "2  1.449890 -0.284197  0.182651 -0.875516  0.201180  0  \n",
       "3 -0.979190 -0.788289 -0.744712 -1.077059 -2.509356  1  \n",
       "4 -0.463202 -0.963436  0.460263 -0.340758  0.130820  1  \n",
       "\n",
       "[5 rows x 41 columns]"
      ]
     },
     "execution_count": 10,
     "metadata": {},
     "output_type": "execute_result"
    }
   ],
   "source": [
    "df.head()"
   ]
  },
  {
   "cell_type": "markdown",
   "id": "d46f9a36-7dac-4d40-9380-f9bc8bc3c09b",
   "metadata": {},
   "source": [
    "### Save resulting dataframe to csv"
   ]
  },
  {
   "cell_type": "code",
   "execution_count": 11,
   "id": "e3f9a63b-8fa7-4cc6-82f9-860193906f21",
   "metadata": {},
   "outputs": [],
   "source": [
    "df.to_csv('../data/raw_data.csv', index=False)"
   ]
  },
  {
   "cell_type": "markdown",
   "id": "d5a5a938-c443-4a5f-b879-290746cafb22",
   "metadata": {},
   "source": [
    "# Approach 2: Using numpy `randomint` method "
   ]
  },
  {
   "cell_type": "markdown",
   "id": "57a06896-f4aa-4ee5-8d33-4765d96cbca2",
   "metadata": {},
   "source": [
    "This method generates arrays of random integers from specified low to high values drawn from a discrete uniform distribution. See the reference documentation [here](https://numpy.org/doc/stable/reference/random/generated/numpy.random.randint.html). The feature columns of the resulting dataset will be orthogonal to each other; that is, there will be no interdependence between the features as they each will be generated following an independent random process."
   ]
  },
  {
   "cell_type": "markdown",
   "id": "1efa08d3-8e41-4a15-b1e6-ee1b94b18f58",
   "metadata": {},
   "source": [
    "#### Create a class `DataGeneratorRandomInt`"
   ]
  },
  {
   "cell_type": "code",
   "execution_count": 12,
   "id": "5ebfe463-9824-450b-85e8-231a5c02b1a7",
   "metadata": {},
   "outputs": [],
   "source": [
    "class DataGeneratorRandomInt:\n",
    "    def __init__(self, num_rows, num_features, min_value, max_value, null_prob, flip_y):\n",
    "        self.num_rows = n_rows\n",
    "        self.num_features = n_features\n",
    "        self.min_value = min_value\n",
    "        self.max_value = max_value\n",
    "        self.null_prob = null_prob\n",
    "        self.flip_y= flip_y\n",
    "\n",
    "    def generate_random_data(self):\n",
    "        X = np.random.randint(self.min_value, self.max_value, size=(self.num_rows+1, self.num_features+1))\n",
    "        \n",
    "        ### generate binary output variable    \n",
    "        y = np.random.choice([0, 1], size=self.num_rows, p=[1-self.flip_y, self.flip_y])  # Binary output column\n",
    "        return X,y\n",
    "\n",
    "    def create_dataframe(self):\n",
    "        X,y = self.generate_random_data()\n",
    "        data = pd.DataFrame(data=X[1:,1:], index=X[1:,0], columns=X[0,1:])\n",
    "        y = pd.DataFrame(pd.Series(data=y[:]), columns=['y'])\n",
    "        \n",
    "        # create column names\n",
    "        featurenames = list()\n",
    "        for i in range(n_features):\n",
    "            featurenames.append(f\"x{i}\")\n",
    "        data.columns = featurenames\n",
    "\n",
    "        ### generate random null values\n",
    "        for col in data.columns:\n",
    "            mask_values = np.random.choice([np.nan, True], size=data.shape[0], p=[self.null_prob, 1 - self.null_prob])\n",
    "            data[col] = data[col]*mask_values\n",
    "        \n",
    "        data = data.reset_index()\n",
    "        \n",
    "        df = pd.concat([pd.DataFrame(data, columns=featurenames),\n",
    "                       pd.DataFrame(y, columns=['y'])], axis=1)\n",
    "\n",
    "        ### create resulting dataframe\n",
    "        df = pd.concat([pd.DataFrame(data, columns=featurenames),\n",
    "               pd.DataFrame(y, columns=['y'])], axis=1)\n",
    "        \n",
    "        return df\n"
   ]
  },
  {
   "cell_type": "markdown",
   "id": "a79a0cee-2ace-479f-aafa-7aee9647479c",
   "metadata": {},
   "source": [
    "### Create dataframe"
   ]
  },
  {
   "cell_type": "code",
   "execution_count": 13,
   "id": "9a4bbf7c-bc81-40f5-a562-3d68061b5f1b",
   "metadata": {},
   "outputs": [],
   "source": [
    "# # Generate a small portion of null values at random\n",
    "generator = DataGeneratorRandomInt(num_rows = n_rows, min_value = -200, max_value=500, \n",
    "                                   num_features = n_features,\n",
    "                                   null_prob = .001, flip_y= flip_y)\n",
    "df = generator.create_dataframe()"
   ]
  },
  {
   "cell_type": "code",
   "execution_count": 14,
   "id": "2ee9ddc7-4cb8-4333-97f8-ecba47b13701",
   "metadata": {},
   "outputs": [
    {
     "data": {
      "text/plain": [
       "(10000, 41)"
      ]
     },
     "execution_count": 14,
     "metadata": {},
     "output_type": "execute_result"
    }
   ],
   "source": [
    "df.shape"
   ]
  },
  {
   "cell_type": "code",
   "execution_count": 15,
   "id": "4888a300-5fcf-4933-89c3-79309d5c745d",
   "metadata": {},
   "outputs": [
    {
     "name": "stdout",
     "output_type": "stream",
     "text": [
      "<class 'pandas.core.frame.DataFrame'>\n",
      "RangeIndex: 10000 entries, 0 to 9999\n",
      "Data columns (total 41 columns):\n",
      " #   Column  Non-Null Count  Dtype  \n",
      "---  ------  --------------  -----  \n",
      " 0   x0      9989 non-null   float64\n",
      " 1   x1      9983 non-null   float64\n",
      " 2   x2      9989 non-null   float64\n",
      " 3   x3      9989 non-null   float64\n",
      " 4   x4      9988 non-null   float64\n",
      " 5   x5      9983 non-null   float64\n",
      " 6   x6      9991 non-null   float64\n",
      " 7   x7      9995 non-null   float64\n",
      " 8   x8      9992 non-null   float64\n",
      " 9   x9      9993 non-null   float64\n",
      " 10  x10     9987 non-null   float64\n",
      " 11  x11     9985 non-null   float64\n",
      " 12  x12     9985 non-null   float64\n",
      " 13  x13     9989 non-null   float64\n",
      " 14  x14     9992 non-null   float64\n",
      " 15  x15     9986 non-null   float64\n",
      " 16  x16     9994 non-null   float64\n",
      " 17  x17     9991 non-null   float64\n",
      " 18  x18     9992 non-null   float64\n",
      " 19  x19     9988 non-null   float64\n",
      " 20  x20     9985 non-null   float64\n",
      " 21  x21     9990 non-null   float64\n",
      " 22  x22     9991 non-null   float64\n",
      " 23  x23     9987 non-null   float64\n",
      " 24  x24     9991 non-null   float64\n",
      " 25  x25     9989 non-null   float64\n",
      " 26  x26     9995 non-null   float64\n",
      " 27  x27     9994 non-null   float64\n",
      " 28  x28     9984 non-null   float64\n",
      " 29  x29     9992 non-null   float64\n",
      " 30  x30     9993 non-null   float64\n",
      " 31  x31     9985 non-null   float64\n",
      " 32  x32     9988 non-null   float64\n",
      " 33  x33     9990 non-null   float64\n",
      " 34  x34     9995 non-null   float64\n",
      " 35  x35     9989 non-null   float64\n",
      " 36  x36     9992 non-null   float64\n",
      " 37  x37     9995 non-null   float64\n",
      " 38  x38     9992 non-null   float64\n",
      " 39  x39     9992 non-null   float64\n",
      " 40  y       10000 non-null  int64  \n",
      "dtypes: float64(40), int64(1)\n",
      "memory usage: 3.1 MB\n"
     ]
    }
   ],
   "source": [
    "df.info()"
   ]
  },
  {
   "cell_type": "markdown",
   "id": "b23de865-6416-4079-968c-4a1b732a21a8",
   "metadata": {},
   "source": [
    "### Save resulting dataframe to csv"
   ]
  },
  {
   "cell_type": "code",
   "execution_count": 16,
   "id": "695b214e-f9e6-428c-bc83-6de02e24eb08",
   "metadata": {},
   "outputs": [],
   "source": [
    "df.to_csv('../data/raw_data2.csv', index=False)"
   ]
  },
  {
   "cell_type": "code",
   "execution_count": null,
   "id": "b26f57d9-3ffa-4de4-82cb-78197975a897",
   "metadata": {},
   "outputs": [],
   "source": []
  }
 ],
 "metadata": {
  "kernelspec": {
   "display_name": "Python 3 (ipykernel)",
   "language": "python",
   "name": "python3"
  },
  "language_info": {
   "codemirror_mode": {
    "name": "ipython",
    "version": 3
   },
   "file_extension": ".py",
   "mimetype": "text/x-python",
   "name": "python",
   "nbconvert_exporter": "python",
   "pygments_lexer": "ipython3",
   "version": "3.10.11"
  }
 },
 "nbformat": 4,
 "nbformat_minor": 5
}
